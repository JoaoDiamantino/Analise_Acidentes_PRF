{
 "cells": [
  {
   "cell_type": "markdown",
   "id": "c9f012db",
   "metadata": {},
   "source": [
    "DESAFIO 300 - API Requests"
   ]
  },
  {
   "cell_type": "code",
   "execution_count": 1,
   "id": "470a41da",
   "metadata": {},
   "outputs": [],
   "source": [
    "import requests\n",
    "import pandas as pd"
   ]
  },
  {
   "cell_type": "code",
   "execution_count": 4,
   "id": "11876beb",
   "metadata": {},
   "outputs": [],
   "source": [
    "#  Dados de tipos de unidades de saúde - Governo Federal\n",
    "\n",
    "url_tipounidades = 'https://apidadosabertos.saude.gov.br/cnes/tipounidades'\n",
    "\n",
    "# Lista de tipos de unidade\n",
    "lista_tipounidades = []\n",
    "\n",
    "# Solicitações para endpoint de estabelecimento\n",
    "response_tipounidades = requests.get(url_tipounidades)\n",
    "json_tipounidades = response_tipounidades.json()\n",
    "    \n",
    "# Adicionando os dados da página na lista\n",
    "lista_tipounidades.extend(json_tipounidades['tipos_unidade'])\n",
    "    \n",
    "# Criar um DataFrame a partir dos dados coletados\n",
    "data_tipounidades = pd.DataFrame(lista_tipounidades)\n",
    "\n",
    "data_tipounidades.to_csv('data_tipounidades.csv', index = False)"
   ]
  },
  {
   "cell_type": "code",
   "execution_count": 5,
   "id": "5f365581",
   "metadata": {},
   "outputs": [],
   "source": [
    "#  Dados de estabelecimentos de saúde - Governo Federal\n",
    "\n",
    "# URL base do endpoint\n",
    "url_base = 'https://apidadosabertos.saude.gov.br/cnes/estabelecimentos?limit=20&offset={}'\n",
    "\n",
    "# Parâmetros iniciais da paginação\n",
    "limit = 20\n",
    "offset = 0\n",
    "numero_paginas = 1000\n",
    "\n",
    "# Lista de estabelecimentos\n",
    "lista_estabelecimentos = []\n",
    "\n",
    "for pagina in range(1, (numero_paginas + 1)):\n",
    "    url_estabelecimentos = url_base.format(offset)\n",
    "    \n",
    "    # Solicitação para o endpoint de estabelecimento\n",
    "    response_estabelecimentos = requests.get(url_estabelecimentos)\n",
    "    json_estabelecimentos = response_estabelecimentos.json()\n",
    "    \n",
    "    # Verificar se há mais estabelecimentos para coletar\n",
    "    if 'estabelecimentos' in json_estabelecimentos:\n",
    "        lista_estabelecimentos.extend(json_estabelecimentos['estabelecimentos'])\n",
    "    else:\n",
    "        break\n",
    "    \n",
    "    # Atualizar o offset para a próxima página\n",
    "    offset += limit\n",
    "\n",
    "# Criar um DataFrame a partir dos dados coletados\n",
    "data_estabelecimentos = pd.DataFrame(lista_estabelecimentos)"
   ]
  },
  {
   "cell_type": "code",
   "execution_count": 20,
   "id": "1aa20c64",
   "metadata": {},
   "outputs": [],
   "source": [
    "# Converter a coluna 21 para o tipo int\n",
    "data_estabelecimentos.iloc[:, 21] = pd.to_numeric(data_estabelecimentos.iloc[:, 21], errors='coerce').astype('Int64')"
   ]
  },
  {
   "cell_type": "code",
   "execution_count": 21,
   "id": "daf23b8d",
   "metadata": {},
   "outputs": [],
   "source": [
    "data_estabelecimentos.to_csv('data_estabelecimentos.csv', index = False)"
   ]
  }
 ],
 "metadata": {
  "kernelspec": {
   "display_name": "Python 3 (ipykernel)",
   "language": "python",
   "name": "python3"
  },
  "language_info": {
   "codemirror_mode": {
    "name": "ipython",
    "version": 3
   },
   "file_extension": ".py",
   "mimetype": "text/x-python",
   "name": "python",
   "nbconvert_exporter": "python",
   "pygments_lexer": "ipython3",
   "version": "3.9.13"
  }
 },
 "nbformat": 4,
 "nbformat_minor": 5
}
